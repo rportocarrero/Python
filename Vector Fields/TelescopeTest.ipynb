{
 "cells": [
  {
   "cell_type": "code",
   "execution_count": 4,
   "metadata": {},
   "outputs": [
    {
     "data": {
      "image/png": "[encoded data removed]",
      "text/plain": [
       "<Figure size 432x288 with 1 Axes>"
      ]
     },
     "metadata": {
      "needs_background": "light"
     },
     "output_type": "display_data"
    }
   ],
   "source": [
    "import numpy as np\n",
    "import matplotlib.pyplot as plt\n",
    "from scipy.spatial import distance\n",
    "\n",
    "def hexagon(radius):\n",
    "    angle = np.linspace(0, 2 * np.pi, 7)\n",
    "    x = radius * np.cos(angle)\n",
    "    y = radius * np.sin(angle)\n",
    "    return np.vstack((x, y)).T\n",
    "\n",
    "def generate_hexagon_aperture(radius, gap, shift_x, shift_y):\n",
    "    hex_coords = hexagon(radius)\n",
    "    aperture = np.zeros((2 * radius, 2 * radius))\n",
    "    \n",
    "    y, x = np.indices(aperture.shape)\n",
    "    xy = np.column_stack((x.ravel(), y.ravel()))\n",
    "    \n",
    "    for y_offset in range(-1, 2):\n",
    "        for x_offset in range(-1, 2):\n",
    "            coords = hex_coords + [radius + x_offset * shift_x + y_offset * shift_x / 2, radius + y_offset * shift_y]\n",
    "            dists = distance.cdist(xy, coords)\n",
    "            min_dists = dists.min(axis=1)\n",
    "            hex_mask = (min_dists <= radius).reshape(aperture.shape)\n",
    "            aperture = np.logical_or(aperture, hex_mask)\n",
    "\n",
    "    return aperture.astype(int)\n",
    "\n",
    "def main():\n",
    "    segment_radius = 50\n",
    "    gap = 2\n",
    "    shift_x = 2 * segment_radius - gap\n",
    "    shift_y = 1.5 * segment_radius - gap / 2\n",
    "    aperture = generate_hexagon_aperture(segment_radius, gap, shift_x, shift_y)\n",
    "\n",
    "    plt.imshow(aperture)\n",
    "    plt.title('Aperture')\n",
    "    plt.show()\n",
    "\n",
    "if __name__ == \"__main__\":\n",
    "    main()\n"
   ]
  },
  {
   "cell_type": "code",
   "execution_count": null,
   "metadata": {},
   "outputs": [],
   "source": []
  }
 ],
 "metadata": {
  "kernelspec": {
   "display_name": "Python 3",
   "language": "python",
   "name": "python3"
  },
  "language_info": {
   "codemirror_mode": {
    "name": "ipython",
    "version": 3
   },
   "file_extension": ".py",
   "mimetype": "text/x-python",
   "name": "python",
   "nbconvert_exporter": "python",
   "pygments_lexer": "ipython3",
   "version": "3.8.3"
  }
 },
 "nbformat": 4,
 "nbformat_minor": 4
}

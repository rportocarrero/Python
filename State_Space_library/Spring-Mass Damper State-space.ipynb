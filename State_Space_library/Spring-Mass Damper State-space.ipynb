{
 "cells": [
  {
   "cell_type": "code",
   "execution_count": 1,
   "id": "7ad7542e",
   "metadata": {},
   "outputs": [],
   "source": [
    "import torch\n",
    "import matplotlib.pyplot as plt\n",
    "from time import *"
   ]
  },
  {
   "cell_type": "code",
   "execution_count": 2,
   "id": "45b11ee8",
   "metadata": {},
   "outputs": [],
   "source": [
    "cuda = torch.device('cuda')\n",
    "cpu = torch.device('cpu')\n",
    "\n",
    "class StateSpace():\n",
    "    def __init__(self, A, B, C, D, x, t):\n",
    "        self.A = A\n",
    "        self.B = B\n",
    "        self.C = C\n",
    "        self.D = D\n",
    "        self.x = x\n",
    "        self.t = t\n",
    "        \n",
    "    def step(self, u):\n",
    "        x_dot = torch.mm(self.A,self.x)+torch.mm(self.B,u)\n",
    "        self.x = torch.mm(x_dot,self.t)+self.x\n",
    "        return torch.mm(self.C,self.x)+torch.mm(self.D,u)"
   ]
  },
  {
   "cell_type": "code",
   "execution_count": 3,
   "id": "39a4e067",
   "metadata": {},
   "outputs": [],
   "source": [
    "ks = 2\n",
    "kd = 2\n",
    "m = 4\n",
    "t = [[0.001]]\n",
    "v0 = 0\n",
    "x0 = 1\n",
    "x = [[x0],[v0]]\n",
    "A = [[0,1],[-ks/m,-kd/m]]\n",
    "B = [[0],[1/m]]\n",
    "C = [[1,0]]\n",
    "D = [[0]]\n",
    "\n",
    "\n",
    "A = torch.tensor(A,dtype=float,device=cpu)\n",
    "B = torch.tensor(B,dtype=float,device=cpu)\n",
    "C = torch.tensor(C,dtype=float,device=cpu)\n",
    "D = torch.tensor(D,dtype=float,device=cpu)\n",
    "x = torch.tensor(x,dtype=float,device=cpu)\n",
    "t = torch.tensor(t,dtype=float,device=cpu)"
   ]
  },
  {
   "cell_type": "code",
   "execution_count": 4,
   "id": "3ef51f03",
   "metadata": {},
   "outputs": [],
   "source": [
    "# build the model\n",
    "SS = StateSpace(A, B, C, D, x, t)"
   ]
  },
  {
   "cell_type": "code",
   "execution_count": 5,
   "id": "d31c1f46",
   "metadata": {},
   "outputs": [],
   "source": [
    "u = [[0]] #input force\n",
    "u = torch.tensor(u,dtype=float)\n",
    "out = []\n",
    "\n",
    "start=time()\n",
    "# run simulation\n",
    "for i in range(25000):\n",
    "    out.append(SS.step(u))\n",
    "end=time()"
   ]
  },
  {
   "cell_type": "code",
   "execution_count": 6,
   "id": "f1bfd72e",
   "metadata": {},
   "outputs": [
    {
     "name": "stderr",
     "output_type": "stream",
     "text": [
      "C:\\Users\\rport\\anaconda3\\envs\\pytorch\\lib\\site-packages\\numpy\\core\\shape_base.py:65: FutureWarning: The input object of type 'Tensor' is an array-like implementing one of the corresponding protocols (`__array__`, `__array_interface__` or `__array_struct__`); but not a sequence (or 0-D). In the future, this object will be coerced as if it was first converted using `np.array(obj)`. To retain the old behaviour, you have to either modify the type 'Tensor', or assign to an empty array created with `np.empty(correct_shape, dtype=object)`.\n",
      "  ary = asanyarray(ary)\n",
      "C:\\Users\\rport\\anaconda3\\envs\\pytorch\\lib\\site-packages\\numpy\\core\\shape_base.py:65: VisibleDeprecationWarning: Creating an ndarray from ragged nested sequences (which is a list-or-tuple of lists-or-tuples-or ndarrays with different lengths or shapes) is deprecated. If you meant to do this, you must specify 'dtype=object' when creating the ndarray.\n",
      "  ary = asanyarray(ary)\n"
     ]
    },
    {
     "name": "stdout",
     "output_type": "stream",
     "text": [
      "0.7636168003082275\n"
     ]
    },
    {
     "data": {
      "image/png": "[encoded data removed]",
      "text/plain": [
       "<Figure size 640x480 with 1 Axes>"
      ]
     },
     "metadata": {},
     "output_type": "display_data"
    }
   ],
   "source": [
    "plt.plot(out)\n",
    "print(end-start)"
   ]
  },
  {
   "cell_type": "code",
   "execution_count": null,
   "id": "8c3e9088",
   "metadata": {},
   "outputs": [],
   "source": []
  },
  {
   "cell_type": "code",
   "execution_count": null,
   "id": "f43b09bc",
   "metadata": {},
   "outputs": [],
   "source": []
  }
 ],
 "metadata": {
  "kernelspec": {
   "display_name": "Python 3 (ipykernel)",
   "language": "python",
   "name": "python3"
  },
  "language_info": {
   "codemirror_mode": {
    "name": "ipython",
    "version": 3
   },
   "file_extension": ".py",
   "mimetype": "text/x-python",
   "name": "python",
   "nbconvert_exporter": "python",
   "pygments_lexer": "ipython3",
   "version": "3.10.8"
  }
 },
 "nbformat": 4,
 "nbformat_minor": 5
}

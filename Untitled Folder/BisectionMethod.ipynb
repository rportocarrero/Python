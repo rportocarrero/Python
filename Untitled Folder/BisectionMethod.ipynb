{
 "cells": [
  {
   "cell_type": "code",
   "execution_count": 39,
   "id": "3745bc02",
   "metadata": {},
   "outputs": [],
   "source": [
    "# The bisection method takes a function, two bracketing values, and a convergence tolerance and find the root of the function.\n",
    "def bisection(function,x0,x1,convergence):\n",
    "    while abs(x0-x1)>convergence:\n",
    "        x_mid = (x0 + x1)/2\n",
    "        if function(x_mid) > 0:\n",
    "            x1 = x_mid\n",
    "        else:\n",
    "            x0 = x_mid\n",
    "    return x0\n",
    "        "
   ]
  },
  {
   "cell_type": "code",
   "execution_count": 51,
   "id": "b5ddb770",
   "metadata": {},
   "outputs": [],
   "source": [
    "#Newtons method uses the derivative of a function to find the root\n",
    "def newtons(function, d_function, x0, convergence):\n",
    "    while abs(function(x0)) > convergence:\n",
    "        x0 = x0 - function(x0)/d_function(x0)\n",
    "    return x0"
   ]
  },
  {
   "cell_type": "code",
   "execution_count": 110,
   "id": "618ce7a2",
   "metadata": {},
   "outputs": [],
   "source": [
    "#Secant method uses two function evaluations to estimate the derivative\n",
    "def secant_root(function, x0, x1, convergence):\n",
    "    while function(x1)> convergence:\n",
    "        d_function = (function(x1)-function(x0))/(x1-x0)\n",
    "        x2 = x1-function(x1)/d_function\n",
    "        x0 = x1\n",
    "        x1 = x2\n",
    "    return x1"
   ]
  },
  {
   "cell_type": "code",
   "execution_count": 111,
   "id": "423c09f8",
   "metadata": {},
   "outputs": [],
   "source": [
    "def two_x(x):\n",
    "    return 2*x+6"
   ]
  },
  {
   "cell_type": "code",
   "execution_count": 112,
   "id": "58d51184",
   "metadata": {},
   "outputs": [],
   "source": [
    "def sqrt_2(x):\n",
    "    return x**2-2\n",
    "\n",
    "def d_sqrt_2(x):\n",
    "    return 2*x"
   ]
  },
  {
   "cell_type": "code",
   "execution_count": 113,
   "id": "1f8fe3e8",
   "metadata": {},
   "outputs": [
    {
     "name": "stdout",
     "output_type": "stream",
     "text": [
      "1.4142135623274044\n"
     ]
    }
   ],
   "source": [
    "r = bisection(sqrt_2,-1000,1000,1e-10)\n",
    "print(r)"
   ]
  },
  {
   "cell_type": "code",
   "execution_count": 114,
   "id": "30c34e0c",
   "metadata": {},
   "outputs": [
    {
     "name": "stdout",
     "output_type": "stream",
     "text": [
      "1.4142135623730951\n"
     ]
    }
   ],
   "source": [
    "r = newtons(sqrt_2,d_sqrt_2,1000,1e-10)\n",
    "print(r)"
   ]
  },
  {
   "cell_type": "code",
   "execution_count": 115,
   "id": "da7874e2",
   "metadata": {},
   "outputs": [
    {
     "name": "stdout",
     "output_type": "stream",
     "text": [
      "1.414232344192973\n"
     ]
    }
   ],
   "source": [
    "r = secant_root(sqrt_2,100,200,1e-3)\n",
    "print(r)"
   ]
  },
  {
   "cell_type": "code",
   "execution_count": null,
   "id": "17c6eabb",
   "metadata": {},
   "outputs": [],
   "source": []
  },
  {
   "cell_type": "code",
   "execution_count": null,
   "id": "4ba54b99",
   "metadata": {},
   "outputs": [],
   "source": []
  }
 ],
 "metadata": {
  "kernelspec": {
   "display_name": "Python 3 (ipykernel)",
   "language": "python",
   "name": "python3"
  },
  "language_info": {
   "codemirror_mode": {
    "name": "ipython",
    "version": 3
   },
   "file_extension": ".py",
   "mimetype": "text/x-python",
   "name": "python",
   "nbconvert_exporter": "python",
   "pygments_lexer": "ipython3",
   "version": "3.10.8"
  }
 },
 "nbformat": 4,
 "nbformat_minor": 5
}

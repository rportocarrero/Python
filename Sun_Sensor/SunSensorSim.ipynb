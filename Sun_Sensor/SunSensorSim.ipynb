{
 "cells": [
  {
   "cell_type": "code",
   "execution_count": 1,
   "id": "b077a037",
   "metadata": {},
   "outputs": [],
   "source": [
    "import torch"
   ]
  },
  {
   "cell_type": "code",
   "execution_count": 43,
   "id": "cc309ddd",
   "metadata": {},
   "outputs": [
    {
     "name": "stdout",
     "output_type": "stream",
     "text": [
      "tensor([ 0.0000, -0.7071,  0.7071])\n",
      "tensor([0.0000, 0.7071, 0.7071])\n",
      "tensor([0.7071, 0.0000, 0.7071])\n",
      "tensor([0.4867, 0.8111, 0.3244])\n"
     ]
    }
   ],
   "source": [
    "p1 = torch.tensor([0.0,-1,1]) # normal vector for panel 1\n",
    "p2 = torch.tensor([0.0,1,1]) # normal vector for panel 2\n",
    "p3 = torch.tensor([1.0,0,1]) # normal vector for panel 3\n",
    "s = torch.tensor([3.0,5,2]) # sun vector\n",
    "\n",
    "# normalize into unit vectors\n",
    "p1 = p1/torch.norm(p1)\n",
    "p2 = p2/torch.norm(p2)\n",
    "p3 = p3/torch.norm(p3)\n",
    "s = s/torch.norm(s)\n",
    "\n",
    "# build transformation matrix\n",
    "A = torch.tensor([[p1[0],p1[1],p1[2]],[p2[0],p2[1],p2[2]],[p3[0],p3[1],p3[2]]])\n",
    "\n",
    "print(p1)\n",
    "print(p2)\n",
    "print(p3)\n",
    "print(s)"
   ]
  },
  {
   "cell_type": "code",
   "execution_count": 36,
   "id": "dda58e9b",
   "metadata": {},
   "outputs": [
    {
     "name": "stdout",
     "output_type": "stream",
     "text": [
      "sun vector: tensor([0.4867, 0.8111, 0.3244]) resut vector: tensor([[-0.5678],\n",
      "        [ 0.5678]])\n"
     ]
    }
   ],
   "source": [
    "# find panel input tensor using dot product. \n",
    "d = torch.tensor([[torch.dot(p1,s)],[torch.dot(p2,s)]])\n",
    "res = torch.mm(A,d)\n",
    "print(f\"sun vector: {s} resut vector: {res}\")"
   ]
  },
  {
   "cell_type": "code",
   "execution_count": 31,
   "id": "befe4dce",
   "metadata": {},
   "outputs": [],
   "source": [
    "# "
   ]
  },
  {
   "cell_type": "code",
   "execution_count": null,
   "id": "be1571b3",
   "metadata": {},
   "outputs": [],
   "source": []
  }
 ],
 "metadata": {
  "kernelspec": {
   "display_name": "Python 3 (ipykernel)",
   "language": "python",
   "name": "python3"
  },
  "language_info": {
   "codemirror_mode": {
    "name": "ipython",
    "version": 3
   },
   "file_extension": ".py",
   "mimetype": "text/x-python",
   "name": "python",
   "nbconvert_exporter": "python",
   "pygments_lexer": "ipython3",
   "version": "3.10.8"
  }
 },
 "nbformat": 4,
 "nbformat_minor": 5
}

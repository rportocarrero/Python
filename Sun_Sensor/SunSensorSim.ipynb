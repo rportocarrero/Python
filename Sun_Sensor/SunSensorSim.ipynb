{
 "cells": [
  {
   "cell_type": "code",
   "execution_count": 114,
   "id": "f9857966",
   "metadata": {},
   "outputs": [],
   "source": [
    "import torch"
   ]
  },
  {
   "cell_type": "code",
   "execution_count": 181,
   "id": "5b0f0f7d",
   "metadata": {},
   "outputs": [],
   "source": [
    "p1 = torch.tensor([0.0,-1,1]) # normal vector for panel 1\n",
    "p2 = torch.tensor([0.0,1,1]) # normal vector for panel 2\n",
    "p3 = torch.tensor([1.0,0,1]) # normal vector for panel 3\n",
    "s = torch.tensor([2.0,5,2]) # sun vector\n",
    "\n",
    "# normalize into unit vectors\n",
    "p1 = p1/torch.norm(p1)\n",
    "p2 = p2/torch.norm(p2)\n",
    "p3 = p3/torch.norm(p3)\n",
    "s = s/torch.norm(s)\n",
    "\n",
    "# build transformation matrix\n",
    "A = torch.tensor([[p1[0],p1[1],p1[2]],[p2[0],p2[1],p2[2]],[p3[0],p3[1],p3[2]]])\n",
    "A = torch.inverse(A)"
   ]
  },
  {
   "cell_type": "code",
   "execution_count": 185,
   "id": "c29f130f",
   "metadata": {},
   "outputs": [
    {
     "name": "stdout",
     "output_type": "stream",
     "text": [
      "Out of sensor FOV\n",
      "sun vector: tensor([0.3482, 0.8704, 0.3482]) result vector: tensor([[0.1005],\n",
      "        [0.7035],\n",
      "        [0.7035]])\n"
     ]
    }
   ],
   "source": [
    "# find panel input tensor using dot product. \n",
    "d = torch.tensor([[torch.dot(p1,s)],[torch.dot(p2,s)],[torch.dot(p3,s)]])\n",
    "solar_irradiance = 1.361e3 #1.361 kW of solar energy from earth.\n",
    "efficiency = 0.36 # GaAs solar panel efficiencies\n",
    "panel_power = d*solar_irradiance*efficiency\n",
    "\n",
    "# panels that don't face the sun have no power\n",
    "panel_power[panel_power<0]=0\n",
    "panel_power\n",
    "\n",
    "res = torch.mm(A,panel_power)\n",
    "res = res/torch.norm(res)\n",
    "if(any(panel_power<=0)):\n",
    "    print(f\"Out of sensor FOV\")\n",
    "print(f\"sun vector: {s} result vector: {res}\")"
   ]
  },
  {
   "cell_type": "code",
   "execution_count": 183,
   "id": "4007f62a",
   "metadata": {},
   "outputs": [
    {
     "ename": "RuntimeError",
     "evalue": "1D tensors expected, but got 1D and 2D tensors",
     "output_type": "error",
     "traceback": [
      "\u001b[0;31m---------------------------------------------------------------------------\u001b[0m",
      "\u001b[0;31mRuntimeError\u001b[0m                              Traceback (most recent call last)",
      "Cell \u001b[0;32mIn[183], line 1\u001b[0m\n\u001b[0;32m----> 1\u001b[0m \u001b[43mtorch\u001b[49m\u001b[38;5;241;43m.\u001b[39;49m\u001b[43mdot\u001b[49m\u001b[43m(\u001b[49m\u001b[43ms\u001b[49m\u001b[43m,\u001b[49m\u001b[43mres\u001b[49m\u001b[43m)\u001b[49m\n",
      "\u001b[0;31mRuntimeError\u001b[0m: 1D tensors expected, but got 1D and 2D tensors"
     ]
    }
   ],
   "source": []
  },
  {
   "cell_type": "code",
   "execution_count": 180,
   "id": "28c4d105",
   "metadata": {},
   "outputs": [
    {
     "data": {
      "text/plain": [
       "False"
      ]
     },
     "execution_count": 180,
     "metadata": {},
     "output_type": "execute_result"
    }
   ],
   "source": []
  },
  {
   "cell_type": "code",
   "execution_count": null,
   "id": "f69396cf",
   "metadata": {},
   "outputs": [],
   "source": []
  },
  {
   "cell_type": "code",
   "execution_count": null,
   "id": "78afad13",
   "metadata": {},
   "outputs": [],
   "source": []
  },
  {
   "cell_type": "code",
   "execution_count": null,
   "id": "ab21bafa",
   "metadata": {},
   "outputs": [],
   "source": []
  }
 ],
 "metadata": {
  "kernelspec": {
   "display_name": "Python 3 (ipykernel)",
   "language": "python",
   "name": "python3"
  },
  "language_info": {
   "codemirror_mode": {
    "name": "ipython",
    "version": 3
   },
   "file_extension": ".py",
   "mimetype": "text/x-python",
   "name": "python",
   "nbconvert_exporter": "python",
   "pygments_lexer": "ipython3",
   "version": "3.10.8"
  }
 },
 "nbformat": 4,
 "nbformat_minor": 5
}

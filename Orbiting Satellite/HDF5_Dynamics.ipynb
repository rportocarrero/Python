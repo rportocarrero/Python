{
 "cells": [
  {
   "cell_type": "code",
   "execution_count": 1,
   "id": "8d4ea44d",
   "metadata": {},
   "outputs": [],
   "source": [
    "import torch\n",
    "import matplotlib.pyplot as plt\n",
    "import numpy as np\n",
    "from datetime import datetime\n",
    "import h5py"
   ]
  },
  {
   "cell_type": "code",
   "execution_count": 2,
   "id": "6bc86f98",
   "metadata": {},
   "outputs": [],
   "source": [
    "#vector norm\n",
    "def L2Norm(S):\n",
    "    return torch.sqrt(S[0]**2+S[1]**2+S[2]**2)\n",
    "\n",
    "# normalizing a vector to a unit vector\n",
    "def Vnorm(V):\n",
    "    v_i = V[0]\n",
    "    v_j = V[1]\n",
    "    v_k = V[2]\n",
    "    \n",
    "    norm = L2Norm(V)\n",
    "    return torch.Tensor([[V[0]/norm, V[1]/norm, V[2]/norm]]).t()"
   ]
  },
  {
   "cell_type": "code",
   "execution_count": 3,
   "id": "2b951fcc",
   "metadata": {},
   "outputs": [],
   "source": [
    "#RK4 implementation\n",
    "def RK4(function, pos_vec, vel_vec, timestep):\n",
    "    f1_pos, f1_vel = function(pos_vec, vel_vec)\n",
    "    f2_pos, f2_vel = function(pos_vec+timestep*f1_pos/2, vel_vec+timestep*f1_vel/2)\n",
    "    f3_pos, f3_vel = function(pos_vec+timestep*f2_pos/2, vel_vec+timestep*f2_vel/2)\n",
    "    f4_pos, f4_vel = function(pos_vec+timestep*f3_pos,vel_vec+timestep*f3_vel)\n",
    "    new_pos = pos_vec + timestep/6 * (f1_pos + 2*f2_pos + 2*f3_pos+f4_pos)\n",
    "    new_vel = vel_vec + timestep/6 * (f1_vel + 2*f2_vel + 2*f3_vel+f4_vel)\n",
    "    return new_pos, new_vel"
   ]
  },
  {
   "cell_type": "code",
   "execution_count": 4,
   "id": "3716b89a",
   "metadata": {},
   "outputs": [],
   "source": [
    "# Equations of motion\n",
    "def propogate(position_vector, velocity_vector):\n",
    "    GM = 3.986004418e14\n",
    "    g = GM/L2Norm(position_vector)**2\n",
    "    s_hat = Vnorm(position_vector)\n",
    "    d_vel = torch.mul(-s_hat,g)\n",
    "    \n",
    "    return velocity_vector, d_vel"
   ]
  },
  {
   "cell_type": "code",
   "execution_count": 5,
   "id": "3521fd8d",
   "metadata": {},
   "outputs": [],
   "source": [
    "def plot_orbit_2d(S_out, collision):\n",
    "    plt.plot(S_out[:,0],S_out[:,1])\n",
    "    ax = plt.gca().set_aspect('equal')\n",
    "    \n",
    "    #plot last point before surface impact\n",
    "    if collision:\n",
    "        plt.plot(S_out[-1,0],S_out[-1,1],marker='o',markeredgecolor='red')\n",
    "        \n",
    "    #plot earth\n",
    "    r = 6.3781e6\n",
    "    theta = np.arange(0,2*np.pi,0.01)\n",
    "    x_earth = r*np.cos(theta)\n",
    "    y_earth = r*np.sin(theta)\n",
    "    plt.plot(x_earth,y_earth)\n",
    "    \n",
    "    #label the plot\n",
    "    plt.legend(['Orbit','Earth'])\n",
    "    \n",
    "    #Save the image\n",
    "    time = datetime.now()\n",
    "    t_format = \"%H%M%S\"\n",
    "    plt.savefig(f\"{time.strftime(t_format)}.png\")"
   ]
  },
  {
   "cell_type": "code",
   "execution_count": 7,
   "id": "51faf7eb",
   "metadata": {},
   "outputs": [],
   "source": [
    "def save_sim_data(radius_earth, altitude, initial_vel, time_step, total_time):\n",
    "    # generate timestamp\n",
    "    time = datetime.now()\n",
    "    t_format = \"%m%d%Y-%H%M%S\"\n",
    "    datetime_prefix = f\"{time.strftime(t_format)}\"\n",
    "    print(datetime_prefix)\n",
    "    \n",
    "    # Open HDF file\n",
    "    f = h5py.File(f\"{datetime_prefix}.hdf5\", 'w')\n",
    "    print(list(f.keys()))\n",
    "    \n",
    "    #save configuration data\n",
    "    dset = f.create_dataset(\"config\", (5,))"
   ]
  },
  {
   "cell_type": "code",
   "execution_count": 8,
   "id": "8330a2de",
   "metadata": {},
   "outputs": [],
   "source": [
    "def orbital_simulation(radius_earth, altitude, initial_vel, time_step, total_time):\n",
    "    S = torch.Tensor([[radius_earth+altitude,0,0]]).t() # initial orbital altitude\n",
    "    V = torch.Tensor([[initial_vel/2,initial_vel,0]]).t() # initial orbital velocity\n",
    "    S_out = torch.Tensor()\n",
    "    collision = False\n",
    "\n",
    "    for t in range(total_time):\n",
    "        S, V = RK4(propogate,S,V,time_step)\n",
    "        S_out = torch.cat((S_out,S.t()))\n",
    "\n",
    "        #check for collision\n",
    "        norm = L2Norm(S)\n",
    "        if norm < radius_earth:\n",
    "            collision = True;\n",
    "            break;\n",
    "    \n",
    "    save_sim_data(radius_earth, altitude, initial_vel, time_step, total_time)"
   ]
  },
  {
   "cell_type": "code",
   "execution_count": 9,
   "id": "1b7f4e4d",
   "metadata": {},
   "outputs": [
    {
     "name": "stdout",
     "output_type": "stream",
     "text": [
      "04302023-184341\n",
      "[]\n"
     ]
    }
   ],
   "source": [
    "radius_earth = 6.3781e6 #radius in m\n",
    "altitude = 200e3 # altitude in m\n",
    "initial_vel = 8.8e3 # velocity in m/s\n",
    "time_step = 60 # seconds\n",
    "total_time = 100 # minutes\n",
    "\n",
    "orbital_simulation(radius_earth, altitude, initial_vel, time_step, total_time)"
   ]
  },
  {
   "cell_type": "code",
   "execution_count": null,
   "id": "44b03656",
   "metadata": {},
   "outputs": [],
   "source": []
  },
  {
   "cell_type": "code",
   "execution_count": null,
   "id": "54b8bb18",
   "metadata": {},
   "outputs": [],
   "source": []
  },
  {
   "cell_type": "code",
   "execution_count": null,
   "id": "27f398eb",
   "metadata": {},
   "outputs": [],
   "source": []
  }
 ],
 "metadata": {
  "kernelspec": {
   "display_name": "Python 3 (ipykernel)",
   "language": "python",
   "name": "python3"
  },
  "language_info": {
   "codemirror_mode": {
    "name": "ipython",
    "version": 3
   },
   "file_extension": ".py",
   "mimetype": "text/x-python",
   "name": "python",
   "nbconvert_exporter": "python",
   "pygments_lexer": "ipython3",
   "version": "3.10.8"
  }
 },
 "nbformat": 4,
 "nbformat_minor": 5
}

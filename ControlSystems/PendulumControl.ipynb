{
 "cells": [
  {
   "cell_type": "code",
   "execution_count": 105,
   "id": "d8ec14bf",
   "metadata": {},
   "outputs": [],
   "source": [
    "import torch\n",
    "from time import *\n",
    "import matplotlib.pyplot as plt"
   ]
  },
  {
   "cell_type": "code",
   "execution_count": 106,
   "id": "f340efdc",
   "metadata": {},
   "outputs": [],
   "source": [
    "cpu = torch.device('cpu')"
   ]
  },
  {
   "cell_type": "code",
   "execution_count": 139,
   "id": "6b2657be",
   "metadata": {},
   "outputs": [],
   "source": [
    "# class for a state-space model\n",
    "class StateSpace():\n",
    "    def __init__(self, A, B, C, D, x, t, integrator):\n",
    "        self.A = torch.eye(A.size()[1])+t*A\n",
    "        self.B = B\n",
    "        self.C = C\n",
    "        self.D = D\n",
    "        self.x = x\n",
    "        self.t = t\n",
    "        self.Integrator = integrator\n",
    "        \n",
    "    def step(self, u):\n",
    "        return self.Integrator.step(self,u)"
   ]
  },
  {
   "cell_type": "code",
   "execution_count": 140,
   "id": "b4a6f37f",
   "metadata": {},
   "outputs": [],
   "source": [
    "# class for an integrator\n",
    "class ForwardEuler():\n",
    "    def __init__(self):\n",
    "        return\n",
    "    \n",
    "    def step(model, u):\n",
    "        x_dot = torch.mm(model.A,model.x)+torch.mm(model.B,u)\n",
    "        model.x = torch.mm(x_dot,model.t)+model.x\n",
    "        return torch.mm(model.C,model.x)+torch.mm(model.D,u)"
   ]
  },
  {
   "cell_type": "code",
   "execution_count": 141,
   "id": "797d5186",
   "metadata": {},
   "outputs": [],
   "source": [
    "# state-space pendulum model\n",
    "g = -9.8 #m/s\n",
    "l = 1 #m\n",
    "m = 1 #kg\n",
    "\n",
    "A = [[0,1],[-g/l, 0]]\n",
    "B = [[0],[l/(m*l**2)]]\n",
    "C = [[1,0]]\n",
    "D = [[0]]\n",
    "x = [[1],[1]]\n",
    "t = [[0.001]]\n",
    "u = [[0]]\n",
    "\n",
    "A = torch.tensor(A,dtype=float,device=cpu)\n",
    "B = torch.tensor(B,dtype=float,device=cpu)\n",
    "C = torch.tensor(C,dtype=float,device=cpu)\n",
    "D = torch.tensor(D,dtype=float,device=cpu)\n",
    "x = torch.tensor(x,dtype=float,device=cpu)\n",
    "t = torch.tensor(t,dtype=float,device=cpu)\n",
    "u = torch.tensor(u,dtype=float,device=cpu)\n",
    "\n",
    "model = StateSpace(A,B,C,D,x,t,ForwardEuler)"
   ]
  },
  {
   "cell_type": "code",
   "execution_count": 148,
   "id": "0d99ee1c",
   "metadata": {},
   "outputs": [
    {
     "data": {
      "text/plain": [
       "tensor([[1.0151]], dtype=torch.float64)"
      ]
     },
     "execution_count": 148,
     "metadata": {},
     "output_type": "execute_result"
    }
   ],
   "source": [
    "model.step(u)"
   ]
  },
  {
   "cell_type": "code",
   "execution_count": 152,
   "id": "753ec3a8",
   "metadata": {},
   "outputs": [
    {
     "name": "stdout",
     "output_type": "stream",
     "text": [
      "runtime: 0.07627511024475098\n"
     ]
    },
    {
     "data": {
      "image/png": "[encoded data removed]",
      "text/plain": [
       "<Figure size 640x480 with 1 Axes>"
      ]
     },
     "metadata": {},
     "output_type": "display_data"
    }
   ],
   "source": [
    "out = []\n",
    "\n",
    "start=time()\n",
    "# run simulation\n",
    "for i in range(3000):\n",
    "    out.append(model.step(u))\n",
    "end=time()\n",
    "plt.plot(out)\n",
    "print(f\"runtime: {end-start}\")"
   ]
  },
  {
   "cell_type": "code",
   "execution_count": null,
   "id": "aa784f61",
   "metadata": {},
   "outputs": [],
   "source": []
  },
  {
   "cell_type": "code",
   "execution_count": null,
   "id": "164a67b8",
   "metadata": {},
   "outputs": [],
   "source": []
  },
  {
   "cell_type": "code",
   "execution_count": null,
   "id": "00edf332",
   "metadata": {},
   "outputs": [],
   "source": []
  },
  {
   "cell_type": "code",
   "execution_count": null,
   "id": "88ef78d4",
   "metadata": {},
   "outputs": [],
   "source": []
  }
 ],
 "metadata": {
  "kernelspec": {
   "display_name": "Python 3 (ipykernel)",
   "language": "python",
   "name": "python3"
  },
  "language_info": {
   "codemirror_mode": {
    "name": "ipython",
    "version": 3
   },
   "file_extension": ".py",
   "mimetype": "text/x-python",
   "name": "python",
   "nbconvert_exporter": "python",
   "pygments_lexer": "ipython3",
   "version": "3.10.8"
  }
 },
 "nbformat": 4,
 "nbformat_minor": 5
}

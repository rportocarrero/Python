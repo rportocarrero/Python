{
 "cells": [
  {
   "cell_type": "code",
   "execution_count": 1,
   "id": "9038cfa7",
   "metadata": {},
   "outputs": [],
   "source": [
    "from matplotlib import pyplot as plt"
   ]
  },
  {
   "cell_type": "code",
   "execution_count": 2,
   "id": "7b96f53b",
   "metadata": {},
   "outputs": [],
   "source": [
    "# Euler integration method\n",
    "def euler(function, v, dt):\n",
    "    return v+dt*function(v)"
   ]
  },
  {
   "cell_type": "code",
   "execution_count": null,
   "id": "dad6a7da",
   "metadata": {},
   "outputs": [],
   "source": []
  },
  {
   "cell_type": "code",
   "execution_count": 3,
   "id": "4504394d",
   "metadata": {},
   "outputs": [],
   "source": [
    "# Equation for the chagne in neutrons\n",
    "def d_n(v):\n",
    "    num_neutrons = v[0]\n",
    "    reactivity = v[1]\n",
    "    mean_neutron_gen_time = v[2]\n",
    "    prompt_neutron_lifetime = v[3]\n",
    "    sum_precursors = v[4]\n",
    "    \n",
    "    v[0]=(reactivity-0.006)/mean_neutron_gen_time*num_neutrons+sum_precursors\n",
    "    \n",
    "    return v"
   ]
  },
  {
   "cell_type": "code",
   "execution_count": 4,
   "id": "4cccab99",
   "metadata": {},
   "outputs": [],
   "source": [
    "# equation for the change in neutron precursors\n",
    "def d_C(num_neutrons, delayed_neutron_fraction, mean_neutron_gen_time, precursor_decay_const, concentration):\n",
    "    return delayed_neutron_fraction/mean_neutron_gen_time*num_neutrons-precursor_decay_const*concentration"
   ]
  },
  {
   "cell_type": "code",
   "execution_count": 5,
   "id": "8cc716da",
   "metadata": {},
   "outputs": [],
   "source": [
    "# U-235 delayed neutron precursors\n",
    "lambda_i=[0.0124,0.0305,0.111,0.301,1.14,3.01]\n",
    "beta=[0.000215,0.001424,0.001274,0.002568,0.000748,0.000237]"
   ]
  },
  {
   "cell_type": "code",
   "execution_count": 6,
   "id": "43824ae1",
   "metadata": {},
   "outputs": [
    {
     "ename": "TypeError",
     "evalue": "can't multiply sequence by non-int of type 'float'",
     "output_type": "error",
     "traceback": [
      "\u001b[0;31m---------------------------------------------------------------------------\u001b[0m",
      "\u001b[0;31mTypeError\u001b[0m                                 Traceback (most recent call last)",
      "Cell \u001b[0;32mIn[6], line 23\u001b[0m\n\u001b[1;32m     21\u001b[0m neutron_v\u001b[38;5;241m=\u001b[39m[neutrons, reactivity, mean_neutron_gen_time, prompt_neutron_life_time, \u001b[38;5;28msum\u001b[39m(precursor_concentrations)]\n\u001b[1;32m     22\u001b[0m neutron_change\u001b[38;5;241m=\u001b[39md_n(neutron_v)\n\u001b[0;32m---> 23\u001b[0m new_neutrons\u001b[38;5;241m=\u001b[39m\u001b[43meuler\u001b[49m\u001b[43m(\u001b[49m\u001b[43md_n\u001b[49m\u001b[43m,\u001b[49m\u001b[43m \u001b[49m\u001b[43mneutron_v\u001b[49m\u001b[43m,\u001b[49m\u001b[43m \u001b[49m\u001b[43mdt\u001b[49m\u001b[43m)\u001b[49m\n\u001b[1;32m     26\u001b[0m \u001b[38;5;66;03m#update precursors\u001b[39;00m\n\u001b[1;32m     27\u001b[0m new_precursor_concentrations\u001b[38;5;241m=\u001b[39m[]\n",
      "Cell \u001b[0;32mIn[2], line 3\u001b[0m, in \u001b[0;36meuler\u001b[0;34m(function, v, dt)\u001b[0m\n\u001b[1;32m      2\u001b[0m \u001b[38;5;28;01mdef\u001b[39;00m \u001b[38;5;21meuler\u001b[39m(function, v, dt):\n\u001b[0;32m----> 3\u001b[0m     \u001b[38;5;28;01mreturn\u001b[39;00m v\u001b[38;5;241m+\u001b[39m\u001b[43mdt\u001b[49m\u001b[38;5;241;43m*\u001b[39;49m\u001b[43mfunction\u001b[49m\u001b[43m(\u001b[49m\u001b[43mv\u001b[49m\u001b[43m)\u001b[49m\n",
      "\u001b[0;31mTypeError\u001b[0m: can't multiply sequence by non-int of type 'float'"
     ]
    }
   ],
   "source": [
    "#initial conditions\n",
    "neutrons=10000 #number of neutrons\n",
    "mean_neutron_gen_time=0.08 #prompt neutron generation time\n",
    "prompt_neutron_life_time=2e-5\n",
    "\n",
    "precursor_concentrations=[0.0,0.0,0.0,0.0,0.0,0.0]\n",
    "\n",
    "dt=0.0001 #timestep\n",
    "neutrons_t=[]\n",
    "precursor_concentrations_t=[]\n",
    "\n",
    "#simulate\n",
    "\n",
    "for i in range(100000):\n",
    "    \n",
    "    #reactivity schedule\n",
    "    if(i<10000):\n",
    "        reactivity=-0.05\n",
    "    \n",
    "    # update neutrons\n",
    "    neutron_v=[neutrons, reactivity, mean_neutron_gen_time, prompt_neutron_life_time, sum(precursor_concentrations)]\n",
    "    neutron_change=d_n(neutron_v)\n",
    "    new_neutrons=euler(d_n, neutron_v, dt)\n",
    "    \n",
    "    \n",
    "    #update precursors\n",
    "    new_precursor_concentrations=[]\n",
    "    for n in range(6):\n",
    "        neutron_concentration_change=d_C(neutrons, beta[n],mean_neutron_gen_time, lambda_i[n],precursor_concentrations[n])\n",
    "        new_precursor_concentrations.append(euler(neutron_concentration_change, precursor_concentrations[n],dt))\n",
    "        \n",
    "    neutrons=new_neutrons\n",
    "    precursor_concentrations=new_precursor_concentrations\n",
    "    \n",
    "    #save current timestep values\n",
    "    neutrons_t.append(neutrons)\n",
    "    precursor_concentrations_t.append(precursor_concentrations)"
   ]
  },
  {
   "cell_type": "code",
   "execution_count": null,
   "id": "1d9a32c4",
   "metadata": {},
   "outputs": [],
   "source": [
    "plt.plot(neutrons_t)"
   ]
  },
  {
   "cell_type": "code",
   "execution_count": null,
   "id": "0cb0a55a",
   "metadata": {},
   "outputs": [],
   "source": [
    "plt.plot(precursor_concentrations_t)"
   ]
  },
  {
   "cell_type": "code",
   "execution_count": null,
   "id": "6ea96560",
   "metadata": {},
   "outputs": [],
   "source": []
  },
  {
   "cell_type": "code",
   "execution_count": null,
   "id": "5200af6a",
   "metadata": {},
   "outputs": [],
   "source": []
  },
  {
   "cell_type": "code",
   "execution_count": null,
   "id": "a608a740",
   "metadata": {},
   "outputs": [],
   "source": []
  },
  {
   "cell_type": "code",
   "execution_count": null,
   "id": "c1f40477",
   "metadata": {},
   "outputs": [],
   "source": []
  }
 ],
 "metadata": {
  "kernelspec": {
   "display_name": "Python 3 (ipykernel)",
   "language": "python",
   "name": "python3"
  },
  "language_info": {
   "codemirror_mode": {
    "name": "ipython",
    "version": 3
   },
   "file_extension": ".py",
   "mimetype": "text/x-python",
   "name": "python",
   "nbconvert_exporter": "python",
   "pygments_lexer": "ipython3",
   "version": "3.11.2"
  }
 },
 "nbformat": 4,
 "nbformat_minor": 5
}

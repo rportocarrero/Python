{
 "cells": [
  {
   "cell_type": "code",
   "execution_count": 69,
   "id": "e65d7415",
   "metadata": {},
   "outputs": [],
   "source": [
    "import torch\n",
    "import torch.nn.functional as F"
   ]
  },
  {
   "cell_type": "code",
   "execution_count": 208,
   "id": "73fb60e8",
   "metadata": {},
   "outputs": [],
   "source": [
    "# power method for finding the dominant eigenvalue.\n",
    "def power_method(A, tolerance):\n",
    "    v = torch.rand(A.size()[0],1)\n",
    "    v=v/v.norm()\n",
    "    prev=torch.zeros(A.size()[0],1)\n",
    "    while True:\n",
    "        prev=v\n",
    "        v=torch.mm(A,v)\n",
    "        v=v/v.norm()\n",
    "        if torch.allclose(v,prev,tolerance):\n",
    "            break\n",
    "    return v"
   ]
  },
  {
   "cell_type": "code",
   "execution_count": 218,
   "id": "4238fe29",
   "metadata": {},
   "outputs": [
    {
     "data": {
      "text/plain": [
       "torch.return_types.linalg_qr(\n",
       "Q=tensor([[-0.1281, -0.0012, -0.9918],\n",
       "        [-0.8361, -0.5377,  0.1086],\n",
       "        [-0.5334,  0.8431,  0.0678]]),\n",
       "R=tensor([[-0.9789, -0.6450, -1.0838],\n",
       "        [ 0.0000,  0.3141,  0.0423],\n",
       "        [ 0.0000,  0.0000, -0.1792]]))"
      ]
     },
     "execution_count": 218,
     "metadata": {},
     "output_type": "execute_result"
    }
   ],
   "source": [
    "A=torch.rand(3,3)\n",
    "torch.linalg.qr(A)"
   ]
  },
  {
   "cell_type": "code",
   "execution_count": 210,
   "id": "5695ce74",
   "metadata": {},
   "outputs": [],
   "source": []
  },
  {
   "cell_type": "code",
   "execution_count": 214,
   "id": "47663a66",
   "metadata": {},
   "outputs": [
    {
     "name": "stdout",
     "output_type": "stream",
     "text": [
      "tensor([[0.6513],\n",
      "        [0.7305],\n",
      "        [0.2056]])\n"
     ]
    }
   ],
   "source": []
  },
  {
   "cell_type": "code",
   "execution_count": 212,
   "id": "fe2a14f9",
   "metadata": {},
   "outputs": [],
   "source": []
  },
  {
   "cell_type": "code",
   "execution_count": 217,
   "id": "50e7f409",
   "metadata": {},
   "outputs": [
    {
     "data": {
      "text/plain": [
       "tensor([[ 0.6513+0.j,  0.7795+0.j, -0.3517+0.j],\n",
       "        [ 0.7305+0.j, -0.2620+0.j, -0.4363+0.j],\n",
       "        [ 0.2056+0.j, -0.5690+0.j,  0.8282+0.j]])"
      ]
     },
     "execution_count": 217,
     "metadata": {},
     "output_type": "execute_result"
    }
   ],
   "source": []
  },
  {
   "cell_type": "code",
   "execution_count": 145,
   "id": "2ffb99a3",
   "metadata": {},
   "outputs": [
    {
     "name": "stdout",
     "output_type": "stream",
     "text": [
      "A: tensor([[0.2047, 0.8233, 0.3227],\n",
      "        [0.8846, 0.5544, 0.7377],\n",
      "        [0.1952, 0.0770, 0.3021]])\n",
      " v:tensor([[0.3865],\n",
      "        [0.9439],\n",
      "        [0.9622]])\n"
     ]
    }
   ],
   "source": []
  },
  {
   "cell_type": "code",
   "execution_count": 141,
   "id": "b6d5fa86",
   "metadata": {},
   "outputs": [
    {
     "name": "stdout",
     "output_type": "stream",
     "text": [
      "tensor([[0.6935],\n",
      "        [0.3403],\n",
      "        [0.6350]])\n"
     ]
    },
    {
     "data": {
      "text/plain": [
       "True"
      ]
     },
     "execution_count": 141,
     "metadata": {},
     "output_type": "execute_result"
    }
   ],
   "source": []
  },
  {
   "cell_type": "code",
   "execution_count": null,
   "id": "b35926d0",
   "metadata": {},
   "outputs": [],
   "source": []
  }
 ],
 "metadata": {
  "kernelspec": {
   "display_name": "Python 3 (ipykernel)",
   "language": "python",
   "name": "python3"
  },
  "language_info": {
   "codemirror_mode": {
    "name": "ipython",
    "version": 3
   },
   "file_extension": ".py",
   "mimetype": "text/x-python",
   "name": "python",
   "nbconvert_exporter": "python",
   "pygments_lexer": "ipython3",
   "version": "3.10.8"
  }
 },
 "nbformat": 4,
 "nbformat_minor": 5
}

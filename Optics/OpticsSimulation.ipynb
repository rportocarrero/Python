{
 "cells": [
  {
   "cell_type": "code",
   "execution_count": 1,
   "id": "968d8750",
   "metadata": {},
   "outputs": [],
   "source": [
    "import torch\n",
    "import matplotlib.pyplot as plt"
   ]
  },
  {
   "cell_type": "code",
   "execution_count": 51,
   "id": "2252f08b",
   "metadata": {},
   "outputs": [],
   "source": [
    "#Matrix for the free-space propogation of distance d\n",
    "def free_space(d):\n",
    "    return torch.tensor([[1.0,d],[0,1]])\n",
    "\n",
    "#matrix for the flat interface refraction between to dissimilar indexes\n",
    "def flat_interface(n1,n2):\n",
    "    return torch.tensor([[1.0,0],[0,n1/n2]])\n",
    "\n",
    "#matrix for the refraction at a curved interface of radius r\n",
    "def curved_interface(n1,n2,R):\n",
    "    return torch.tensor([[1.0,0],[(n1-n2)/(R*n2),n1/n2]])\n",
    "\n",
    "#matrix for the reflection of a flat mirror\n",
    "def flat_mirror():\n",
    "    return torch.tensor([[1.0,0],[0,1]])\n",
    "\n",
    "#matrix for the reflection from a curved mirror of radius r\n",
    "def curved_mirror(r):\n",
    "    return torch.tensor([[1.0,0],[-2/r, 1]])\n",
    "\n",
    "# matrix for the refraction of a thin lens of focal length f\n",
    "def thin_lens(f):\n",
    "    return torch.tensor([[1.0,0],[-1/f, 1]])\n",
    "\n",
    "# matrix for the thick lens with radii of curvature, thickness, and refraction indexes\n",
    "def thick_lens(n1,n2,r1,r2,t):\n",
    "    A = torch.tensor([[1,0],[(n2-n1)/(r2*n1),n2/n1]])\n",
    "    B = torch.tensor([[1.0, t],[0, 1]])\n",
    "    C = torch.tensor([[1,0],[(n1-n2)/(r1*n2),n1/n2]])\n",
    "    return torch.mm(torch.mm(A,B),C)"
   ]
  },
  {
   "cell_type": "code",
   "execution_count": 142,
   "id": "de87a405",
   "metadata": {},
   "outputs": [],
   "source": [
    "#Simple Telescope\n",
    "objective = thin_lens(80) # focal length\n",
    "distance = free_space(60) # distance between eyepiece and objective\n",
    "eyepiece = thin_lens(-120) # diverging focal length\n"
   ]
  },
  {
   "cell_type": "code",
   "execution_count": 153,
   "id": "017a51fd",
   "metadata": {},
   "outputs": [
    {
     "name": "stdout",
     "output_type": "stream",
     "text": [
      "tensor([[ 2.5000e-01,  1.2000e+02],\n",
      "        [-1.0417e-02, -1.0000e+00]])\n",
      "Image Distance: 120.0mm\n",
      "Magnification: -1.0x\n"
     ]
    }
   ],
   "source": [
    "#build lens system\n",
    "telescope_system = torch.mm(eyepiece, distance)\n",
    "telescope_system = torch.mm(telescope_system, objective)\n",
    "\n",
    "#determine imaging conditions\n",
    "object_distance = free_space(240)\n",
    "telescope_system = torch.mm(telescope_system, object_distance)\n",
    "image_distance = telescope_system[0,1]\n",
    "telescope_magnification = telescope_system[1,1]\n",
    "\n",
    "print(telescope_system)\n",
    "\n",
    "print(f\"Image Distance: {image_distance}mm\")\n",
    "print(f\"Magnification: {telescope_magnification}x\")\n"
   ]
  },
  {
   "cell_type": "code",
   "execution_count": 157,
   "id": "0daf159d",
   "metadata": {},
   "outputs": [
    {
     "name": "stdout",
     "output_type": "stream",
     "text": [
      "tensor([[ 1.0000e+00,  2.5000e+01],\n",
      "        [-7.1429e-03,  8.2143e-01]])\n",
      "tensor([[250.0000],\n",
      "        [  8.2143]])\n",
      "Image Distance: 25.0mm\n",
      "Magnification: 0.8214285373687744x\n"
     ]
    }
   ],
   "source": [
    "# Simple Magnifying Glass\n",
    "lens = thin_lens(140) #140mm focal length\n",
    "\n",
    "# determine imaging conditions\n",
    "object_distance = free_space(25) #100mm distance\n",
    "mag_system = torch.mm(lens, object_distance)\n",
    "image_distance = mag_system[0,1]\n",
    "magnification = mag_system[1,1]\n",
    "print(mag_system)\n",
    "\n",
    "object_ray = torch.Tensor([[0],[10]])\n",
    "image_ray = torch.mm(mag_system, object_ray)\n",
    "\n",
    "print(image_ray)\n",
    "print(f\"Image Distance: {image_distance}mm\")\n",
    "print(f\"Magnification: {magnification}x\")"
   ]
  },
  {
   "cell_type": "code",
   "execution_count": null,
   "id": "5fe56a1a",
   "metadata": {},
   "outputs": [],
   "source": []
  },
  {
   "cell_type": "code",
   "execution_count": null,
   "id": "6a1ce4b5",
   "metadata": {},
   "outputs": [],
   "source": []
  }
 ],
 "metadata": {
  "kernelspec": {
   "display_name": "Python 3 (ipykernel)",
   "language": "python",
   "name": "python3"
  },
  "language_info": {
   "codemirror_mode": {
    "name": "ipython",
    "version": 3
   },
   "file_extension": ".py",
   "mimetype": "text/x-python",
   "name": "python",
   "nbconvert_exporter": "python",
   "pygments_lexer": "ipython3",
   "version": "3.10.8"
  }
 },
 "nbformat": 4,
 "nbformat_minor": 5
}
